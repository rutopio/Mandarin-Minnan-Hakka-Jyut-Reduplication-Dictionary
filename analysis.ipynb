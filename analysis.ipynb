{
 "cells": [
  {
   "cell_type": "markdown",
   "metadata": {},
   "source": [
    "# Read the file"
   ]
  },
  {
   "cell_type": "code",
   "execution_count": 1,
   "metadata": {},
   "outputs": [
    {
     "name": "stdout",
     "output_type": "stream",
     "text": [
      "All words: 1994\n"
     ]
    }
   ],
   "source": [
    "import pandas as pd\n",
    "import csv\n",
    "\n",
    "df = pd.read_csv(\"./Minnan/reduplication-minnan.csv\")\n",
    "words = list((set(list(df[\"word\"]))))\n",
    "print(\"All words:\", len(words))\n"
   ]
  },
  {
   "cell_type": "markdown",
   "metadata": {},
   "source": [
    "# Find the reduplication words"
   ]
  },
  {
   "cell_type": "code",
   "execution_count": 2,
   "metadata": {},
   "outputs": [
    {
     "name": "stdout",
     "output_type": "stream",
     "text": [
      "1912\n",
      "544\n",
      "1037\n"
     ]
    }
   ],
   "source": [
    "dup = []\n",
    "neg = []\n",
    "ct_dup = 0\n",
    "ct_neg = 0\n",
    "chra = []\n",
    "for word in words:\n",
    "    for index, character in enumerate(word[:-1]):\n",
    "        if word[index + 1] == character:\n",
    "            dup.append(word)\n",
    "            ct_dup += 1\n",
    "            chra.append(character)\n",
    "        try:\n",
    "            if word[index + 2] == character:\n",
    "                neg.append(word)\n",
    "                ct_neg += 1\n",
    "                chra.append(character)\n",
    "        except:\n",
    "            pass\n",
    "\n",
    "print(ct_dup)\n",
    "print(ct_neg)\n",
    "print(len(set(chra)))\n"
   ]
  },
  {
   "cell_type": "code",
   "execution_count": 3,
   "metadata": {},
   "outputs": [],
   "source": [
    "dup_ls = list(dup)\n",
    "neg_ls = list(neg)\n",
    "AA = []\n",
    "AAB = []\n",
    "ABB = []\n",
    "AAA = []\n",
    "AAAA = []\n",
    "AABB = []\n",
    "ABAC = []\n",
    "ABAB = []\n",
    "BACA = []\n",
    "AABC = []\n",
    "BCAA = []\n",
    "ABBA = []\n",
    "ABBC = []\n",
    "not_use = []\n",
    "more = []\n",
    "\n",
    "# dup_ls =[\"一心一意\"]\n",
    "\n",
    "for dp in dup_ls:\n",
    "    if len(dp) == 2:\n",
    "        if dp[0] == dp[1]:\n",
    "            AA.append(dp)\n",
    "        else:\n",
    "            not_use.append(dp)\n",
    "    if len(dp) == 3:\n",
    "        if dp[0] == dp[1] and dp[1] != dp[2]:\n",
    "            AAB.append(dp)\n",
    "        elif dp[0] != dp[1] and dp[1] == dp[2]:\n",
    "            ABB.append(dp)\n",
    "        elif dp[0] == dp[1] == dp[2]:\n",
    "            AAA.append(dp)\n",
    "        else:\n",
    "            not_use.append(dp)\n",
    "    if len(dp) == 4:\n",
    "        if dp[0] == dp[1] == dp[2] == dp[3]:\n",
    "            AAAA.append(dp)\n",
    "        elif dp[0] == dp[1] and dp[2] == dp[3] and dp[0] != dp[3]:\n",
    "            AABB.append(dp)\n",
    "        elif dp[0] == dp[1] and dp[0] != dp[2] and dp[0] != dp[3] and dp[2] != dp[3]:\n",
    "            AABC.append(dp)\n",
    "        elif dp[2] == dp[3] and dp[0] != dp[2] and dp[1] != dp[2] and dp[0] != dp[1]:\n",
    "            BCAA.append(dp)\n",
    "        elif  dp[1] == dp[2] and dp[0] == dp[3] and dp[0] != dp[1]:\n",
    "            ABBA.append(dp)\n",
    "        elif  dp[1] == dp[2] and dp[0] != dp[1] and dp[3] != dp[1] and dp[0] != dp[3]:\n",
    "            ABBC.append(dp) \n",
    "        else:\n",
    "            not_use.append(dp)\n",
    "    if len(dp) > 4:\n",
    "        more.append(dp)\n",
    "\n",
    "for ng in neg_ls:\n",
    "    if len(ng) == 4:\n",
    "\n",
    "        if ng[0] == ng[2] and ng[1] == ng[3] and ng[0] != ng[1]:\n",
    "            ABAB.append(ng)\n",
    "        elif ng[0] == ng[2] and ng[0] != ng[1] and ng[0] != ng[3] and ng[1] != ng[3]:\n",
    "            ABAC.append(ng)\n",
    "        elif ng[1] == ng[3] and ng[1] != ng[0] and ng[1] != ng[2] and ng[0] != ng[2]:\n",
    "            BACA.append(ng)\n"
   ]
  },
  {
   "cell_type": "markdown",
   "metadata": {},
   "source": [
    "# Print the Report"
   ]
  },
  {
   "cell_type": "code",
   "execution_count": 4,
   "metadata": {},
   "outputs": [
    {
     "name": "stdout",
     "output_type": "stream",
     "text": [
      "AA: 506\n",
      "AAB: 288\n",
      "ABB: 435\n",
      "AAA: 202\n",
      "AAAA: 0\n",
      "AABB: 348\n",
      "ABAB: 172\n",
      "ABAC: 225\n",
      "BACA: 46\n",
      "AABC: 64\n",
      "BCAA: 45\n",
      "ABBA: 1\n",
      "ABBC: 15\n",
      "not use: 0\n",
      "more: 8\n"
     ]
    }
   ],
   "source": [
    "print(\"AA:\", len(AA))\n",
    "print(\"AAB:\", len(AAB))\n",
    "print(\"ABB:\", len(ABB))\n",
    "print(\"AAA:\", len(AAA))\n",
    "print(\"AAAA:\", len(AAAA))\n",
    "print(\"AABB:\", len(AABB))\n",
    "print(\"ABAB:\", len(ABAB))\n",
    "print(\"ABAC:\", len(ABAC))\n",
    "print(\"BACA:\", len(BACA))\n",
    "print(\"AABC:\", len(AABC))\n",
    "print(\"BCAA:\", len(BCAA))\n",
    "print(\"ABBA:\", len(ABBA))\n",
    "print(\"ABBC:\", len(ABBC))\n",
    "print(\"not use:\", len(not_use))\n",
    "print(\"more:\", len(more))\n",
    "\n"
   ]
  }
 ],
 "metadata": {
  "kernelspec": {
   "display_name": "Python 3.9.15 64-bit",
   "language": "python",
   "name": "python3"
  },
  "language_info": {
   "codemirror_mode": {
    "name": "ipython",
    "version": 3
   },
   "file_extension": ".py",
   "mimetype": "text/x-python",
   "name": "python",
   "nbconvert_exporter": "python",
   "pygments_lexer": "ipython3",
   "version": "3.9.15"
  },
  "orig_nbformat": 4,
  "vscode": {
   "interpreter": {
    "hash": "a665b5d41d17b532ea9890333293a1b812fa0b73c9c25c950b3cedf1bebd0438"
   }
  }
 },
 "nbformat": 4,
 "nbformat_minor": 2
}
